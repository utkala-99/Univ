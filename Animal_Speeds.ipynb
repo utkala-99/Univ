{
  "nbformat": 4,
  "nbformat_minor": 0,
  "metadata": {
    "colab": {
      "provenance": []
    },
    "kernelspec": {
      "name": "python3",
      "display_name": "Python 3"
    },
    "language_info": {
      "name": "python"
    }
  },
  "cells": [
    {
      "cell_type": "markdown",
      "source": [
        "Descriptive Analysis of Animal Speeds dataset"
      ],
      "metadata": {
        "id": "Zn7lpKcAMvk_"
      }
    },
    {
      "cell_type": "code",
      "source": [
        "import pandas as pd\n",
        "import numpy as np\n",
        "import matplotlib.pyplot as plt\n",
        "import seaborn as sns"
      ],
      "metadata": {
        "id": "OB7wr_hFgOZE"
      },
      "execution_count": 17,
      "outputs": []
    },
    {
      "cell_type": "code",
      "source": [
        "asp=pd.read_csv(\"animal_speeds.csv\",sep=\";\")"
      ],
      "metadata": {
        "id": "MzsDFXavg0jF"
      },
      "execution_count": 18,
      "outputs": []
    },
    {
      "cell_type": "code",
      "source": [
        "asp"
      ],
      "metadata": {
        "id": "Pzd6KUGAxiAV"
      },
      "execution_count": null,
      "outputs": []
    },
    {
      "cell_type": "code",
      "source": [
        "asp.describe()"
      ],
      "metadata": {
        "id": "d5s3YJ0oxr7L"
      },
      "execution_count": null,
      "outputs": []
    },
    {
      "cell_type": "markdown",
      "source": [
        "Inter Quartile Range (IQR) : 75% quartile - 25% quartile"
      ],
      "metadata": {
        "id": "3oXoe0-db1RR"
      }
    },
    {
      "cell_type": "code",
      "source": [
        "weight_IQR=asp[\"weight\"].quantile(0.75) - asp[\"weight\"].quantile(0.25)\n",
        "speed_IQR=asp[\"highspeed\"].quantile(0.75) - asp[\"highspeed\"].quantile(0.25)"
      ],
      "metadata": {
        "id": "Oos0uKilb_IL"
      },
      "execution_count": 41,
      "outputs": []
    },
    {
      "cell_type": "markdown",
      "source": [
        "Variance"
      ],
      "metadata": {
        "id": "01aHs8jtdKux"
      }
    },
    {
      "cell_type": "code",
      "source": [
        "asp.var()"
      ],
      "metadata": {
        "colab": {
          "base_uri": "https://localhost:8080/"
        },
        "id": "MqGzlhPLdKEp",
        "outputId": "2b22eb81-569a-40fb-b01a-6438853996b1"
      },
      "execution_count": 42,
      "outputs": [
        {
          "output_type": "stream",
          "name": "stderr",
          "text": [
            "/usr/local/lib/python3.7/dist-packages/ipykernel_launcher.py:1: FutureWarning: Dropping of nuisance columns in DataFrame reductions (with 'numeric_only=None') is deprecated; in a future version this will raise TypeError.  Select only valid columns before calling the reduction.\n",
            "  \"\"\"Entry point for launching an IPython kernel.\n"
          ]
        },
        {
          "output_type": "execute_result",
          "data": {
            "text/plain": [
              "weight       1.509289e+08\n",
              "highspeed    1.187509e+03\n",
              "dtype: float64"
            ]
          },
          "metadata": {},
          "execution_count": 42
        }
      ]
    },
    {
      "cell_type": "code",
      "source": [
        "asp.mean()"
      ],
      "metadata": {
        "id": "pmAzNKB92LhQ"
      },
      "execution_count": null,
      "outputs": []
    },
    {
      "cell_type": "code",
      "source": [
        "asp.median()"
      ],
      "metadata": {
        "id": "UTLfjzBl2lvL"
      },
      "execution_count": null,
      "outputs": []
    },
    {
      "cell_type": "code",
      "source": [
        "asp.groupby(['movement_type']).count()"
      ],
      "metadata": {
        "id": "xiZT25EZZKD5"
      },
      "execution_count": null,
      "outputs": []
    },
    {
      "cell_type": "code",
      "source": [
        "asp.groupby(['movement_type']).mean()"
      ],
      "metadata": {
        "id": "497OSvTk2uKp"
      },
      "execution_count": null,
      "outputs": []
    },
    {
      "cell_type": "markdown",
      "source": [
        "Range : Maximum - Minimum"
      ],
      "metadata": {
        "id": "PGqmqxvkadbW"
      }
    },
    {
      "cell_type": "code",
      "source": [
        "#For weight\n",
        "weight_range=max(asp['weight'])-min(asp['weight'])\n",
        "weight_range"
      ],
      "metadata": {
        "colab": {
          "base_uri": "https://localhost:8080/"
        },
        "id": "sj4CM-R-aj2f",
        "outputId": "42737602-91e7-4026-8609-7c7f4b61fca2"
      },
      "execution_count": 38,
      "outputs": [
        {
          "output_type": "execute_result",
          "data": {
            "text/plain": [
              "139999.999"
            ]
          },
          "metadata": {},
          "execution_count": 38
        }
      ]
    },
    {
      "cell_type": "code",
      "source": [
        "#For high speed\n",
        "speed_range=max(asp['highspeed'])-min(asp['highspeed'])\n",
        "speed_range"
      ],
      "metadata": {
        "colab": {
          "base_uri": "https://localhost:8080/"
        },
        "id": "AZQHWmVQa_s4",
        "outputId": "429668b6-da24-48c4-f766-78e6225bcf3e"
      },
      "execution_count": 39,
      "outputs": [
        {
          "output_type": "execute_result",
          "data": {
            "text/plain": [
              "193.5"
            ]
          },
          "metadata": {},
          "execution_count": 39
        }
      ]
    },
    {
      "cell_type": "code",
      "source": [
        "asp.isnull().sum()"
      ],
      "metadata": {
        "id": "S_ys7rn9I0e2"
      },
      "execution_count": null,
      "outputs": []
    },
    {
      "cell_type": "code",
      "source": [
        "plt.scatter(asp['highspeed'],asp['weight'])\n",
        "plt.ylabel('Average Weight')\n",
        "plt.xlabel('High Speed')\n",
        "plt.title('Plot between Avg Weight and High Speed')"
      ],
      "metadata": {
        "id": "3Q04UzgMI5ha"
      },
      "execution_count": null,
      "outputs": []
    },
    {
      "cell_type": "code",
      "source": [
        "sns.set_style(\"whitegrid\")\n",
        "sns.FacetGrid(asp, hue=\"movement_type\", size=5) \\\n",
        "   .map(plt.scatter, \"weight\", \"highspeed\") \\\n",
        "   .add_legend()\n",
        "plt.show()"
      ],
      "metadata": {
        "colab": {
          "base_uri": "https://localhost:8080/",
          "height": 424
        },
        "id": "BIx6k9toRIjW",
        "outputId": "2eb3d670-eae8-44b4-95d9-b34a7536b19e"
      },
      "execution_count": 36,
      "outputs": [
        {
          "output_type": "stream",
          "name": "stderr",
          "text": [
            "/usr/local/lib/python3.7/dist-packages/seaborn/axisgrid.py:337: UserWarning: The `size` parameter has been renamed to `height`; please update your code.\n",
            "  warnings.warn(msg, UserWarning)\n"
          ]
        },
        {
          "output_type": "display_data",
          "data": {
            "text/plain": [
              "<Figure size 448.75x360 with 1 Axes>"
            ],
            "image/png": "[encoded data removed]"
          },
          "metadata": {}
        }
      ]
    },
    {
      "cell_type": "code",
      "source": [
        "sns.FacetGrid(asp,hue='weight',size=5).map(sns.distplot,'highspeed').add_legend()"
      ],
      "metadata": {
        "id": "Qjr3TAuhOOBW"
      },
      "execution_count": null,
      "outputs": []
    },
    {
      "cell_type": "code",
      "source": [
        "x=asp['weight']\n",
        "y=asp['highspeed']\n",
        "plt.plot(x,y)"
      ],
      "metadata": {
        "colab": {
          "base_uri": "https://localhost:8080/",
          "height": 282
        },
        "id": "FjOz-K5RQe-_",
        "outputId": "393b4b4c-06df-4ec2-a2c8-d8b30899b255"
      },
      "execution_count": 28,
      "outputs": [
        {
          "output_type": "execute_result",
          "data": {
            "text/plain": [
              "[<matplotlib.lines.Line2D at 0x7fd29fcc6150>]"
            ]
          },
          "metadata": {},
          "execution_count": 28
        },
        {
          "output_type": "display_data",
          "data": {
            "text/plain": [
              "<Figure size 432x288 with 1 Axes>"
            ],
            "image/png": "[encoded data removed]"
          },
          "metadata": {
            "needs_background": "light"
          }
        }
      ]
    },
    {
      "cell_type": "markdown",
      "source": [
        "Linear Regression between Weight and High Speed"
      ],
      "metadata": {
        "id": "rsrDjDITZhL-"
      }
    },
    {
      "cell_type": "code",
      "source": [
        "# collecting X and Y\n",
        "x=asp['weight'].values\n",
        "y=asp['highspeed'].values\n"
      ],
      "metadata": {
        "id": "iFe1i53eZgNT"
      },
      "execution_count": 43,
      "outputs": []
    },
    {
      "cell_type": "code",
      "source": [
        "mean_x=np.mean(x)\n",
        "mean_y=np.mean(y)\n",
        "\n",
        "n=len(x)\n",
        "\n",
        "SS_xy = np.sum(y*x) - n*mean_y*mean_x\n",
        "SS_xx = np.sum(x*x) - n*mean_x*mean_x\n",
        "\n",
        "b1 = SS_xy / SS_xx\n",
        "b0 = mean_y - b1*mean_x\n",
        "print(b1,b0)"
      ],
      "metadata": {
        "colab": {
          "base_uri": "https://localhost:8080/"
        },
        "id": "8r6ojWWWlbsI",
        "outputId": "075ef3d5-d18f-4d5f-b20a-b481f9ae89eb"
      },
      "execution_count": 46,
      "outputs": [
        {
          "output_type": "stream",
          "name": "stdout",
          "text": [
            "-0.00026305390035944614 53.165440486441696\n"
          ]
        }
      ]
    },
    {
      "cell_type": "markdown",
      "source": [
        "High Speed = -0.00026 * (Weight) + 53.1654, Negative slope implies inverse relationship\n",
        "\n"
      ],
      "metadata": {
        "id": "0zDwmjUZnZn4"
      }
    },
    {
      "cell_type": "code",
      "source": [
        "    plt.scatter(x, y, color = \"m\",\n",
        "               marker = \"o\", s = 30)\n",
        "  \n",
        "    # predicted response vector\n",
        "    y_pred = b0 + b1*x\n",
        "  \n",
        "    # plotting the regression line\n",
        "    plt.plot(x, y_pred, color = \"g\")\n",
        "  \n",
        "    # putting labels\n",
        "    plt.xlabel('x')\n",
        "    plt.ylabel('y')\n",
        "  \n",
        "    # function to show plot\n",
        "    plt.show()"
      ],
      "metadata": {
        "colab": {
          "base_uri": "https://localhost:8080/",
          "height": 279
        },
        "id": "coh7vt3knrhR",
        "outputId": "1cbde156-890f-4adb-cc00-0c1ddeb52cee"
      },
      "execution_count": 48,
      "outputs": [
        {
          "output_type": "display_data",
          "data": {
            "text/plain": [
              "<Figure size 432x288 with 1 Axes>"
            ],
            "image/png": "[encoded data removed]"
          },
          "metadata": {}
        }
      ]
    },
    {
      "cell_type": "code",
      "source": [
        "ss_t = np.sum((y-mean_y)*(y-mean_y))\n",
        "ss_r = np.sum((y-y_pred)*(y-y_pred))\n",
        "r2=1-(ss_r/ss_t)\n",
        "r2"
      ],
      "metadata": {
        "colab": {
          "base_uri": "https://localhost:8080/"
        },
        "id": "jtI-Ks1hotO5",
        "outputId": "1afd6337-2602-4d54-d74f-8e490f0d89e3"
      },
      "execution_count": 49,
      "outputs": [
        {
          "output_type": "execute_result",
          "data": {
            "text/plain": [
              "0.008794775433880964"
            ]
          },
          "metadata": {},
          "execution_count": 49
        }
      ]
    }
  ]
}